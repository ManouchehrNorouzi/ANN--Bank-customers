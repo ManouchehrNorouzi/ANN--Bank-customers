{
 "cells": [
  {
   "cell_type": "markdown",
   "metadata": {
    "colab_type": "text",
    "id": "lP6JLo1tGNBg"
   },
   "source": [
    "# Artificial Neural Network"
   ]
  },
  {
   "cell_type": "code",
   "execution_count": 1,
   "metadata": {
    "colab": {},
    "colab_type": "code",
    "id": "MxkJoQBkUIHC"
   },
   "outputs": [],
   "source": [
    "import numpy as np\n",
    "import pandas as pd\n",
    "import tensorflow as tf"
   ]
  },
  {
   "cell_type": "code",
   "execution_count": 2,
   "metadata": {
    "colab": {},
    "colab_type": "code",
    "id": "MXUkhkMfU4wq"
   },
   "outputs": [],
   "source": [
    "dataset = pd.read_csv('Bank_data.csv')\n",
    "x = dataset.iloc[:, 3:-1].values\n",
    "y = dataset.iloc[:, -1].values"
   ]
  },
  {
   "cell_type": "code",
   "execution_count": 3,
   "metadata": {},
   "outputs": [
    {
     "name": "stdout",
     "output_type": "stream",
     "text": [
      "[[619 'France' 'Female' ... 1 1 101348.88]\n",
      " [608 'Spain' 'Female' ... 0 1 112542.58]\n",
      " [502 'France' 'Female' ... 1 0 113931.57]\n",
      " ...\n",
      " [709 'France' 'Female' ... 0 1 42085.58]\n",
      " [772 'Germany' 'Male' ... 1 0 92888.52]\n",
      " [792 'France' 'Female' ... 1 0 38190.78]]\n"
     ]
    }
   ],
   "source": [
    "print(x)"
   ]
  },
  {
   "cell_type": "code",
   "execution_count": 4,
   "metadata": {},
   "outputs": [
    {
     "name": "stdout",
     "output_type": "stream",
     "text": [
      "[1 0 1 ... 1 1 0]\n"
     ]
    }
   ],
   "source": [
    "print(y)"
   ]
  },
  {
   "cell_type": "markdown",
   "metadata": {
    "colab_type": "text",
    "id": "le5MJreAbW52"
   },
   "source": [
    "Label Encoding the \"Gender\" column"
   ]
  },
  {
   "cell_type": "code",
   "execution_count": 5,
   "metadata": {
    "colab": {},
    "colab_type": "code",
    "id": "PxVKWXxLbczC"
   },
   "outputs": [],
   "source": [
    "from sklearn.preprocessing import LabelEncoder\n",
    "le = LabelEncoder()\n",
    "x[:, 2] = le.fit_transform(x[:, 2])"
   ]
  },
  {
   "cell_type": "code",
   "execution_count": 6,
   "metadata": {
    "colab": {
     "base_uri": "https://localhost:8080/",
     "height": 137
    },
    "colab_type": "code",
    "id": "-M1KboxFb6OO",
    "outputId": "e2b8c7e8-0cbc-4cdf-f4eb-7f0853a00b88"
   },
   "outputs": [
    {
     "name": "stdout",
     "output_type": "stream",
     "text": [
      "[[619 'France' 0 ... 1 1 101348.88]\n",
      " [608 'Spain' 0 ... 0 1 112542.58]\n",
      " [502 'France' 0 ... 1 0 113931.57]\n",
      " ...\n",
      " [709 'France' 0 ... 0 1 42085.58]\n",
      " [772 'Germany' 1 ... 1 0 92888.52]\n",
      " [792 'France' 0 ... 1 0 38190.78]]\n"
     ]
    }
   ],
   "source": [
    "print(x)"
   ]
  },
  {
   "cell_type": "markdown",
   "metadata": {
    "colab_type": "text",
    "id": "CUxGZezpbMcb"
   },
   "source": [
    "One Hot Encoding the \"Geography\" column"
   ]
  },
  {
   "cell_type": "code",
   "execution_count": 7,
   "metadata": {
    "colab": {},
    "colab_type": "code",
    "id": "AMXC8-KMVirw"
   },
   "outputs": [],
   "source": [
    "from sklearn.compose import ColumnTransformer\n",
    "from sklearn.preprocessing import OneHotEncoder\n",
    "ct = ColumnTransformer(transformers=[('encoder', OneHotEncoder(), [1])], remainder='passthrough')\n",
    "x = np.array(ct.fit_transform(x))"
   ]
  },
  {
   "cell_type": "code",
   "execution_count": 8,
   "metadata": {
    "colab": {
     "base_uri": "https://localhost:8080/",
     "height": 137
    },
    "colab_type": "code",
    "id": "ZcxwEon-b8nV",
    "outputId": "23a98af4-5e33-4b26-c27b-f06e3c5d2baf"
   },
   "outputs": [
    {
     "name": "stdout",
     "output_type": "stream",
     "text": [
      "[[1.0 0.0 0.0 ... 1 1 101348.88]\n",
      " [0.0 0.0 1.0 ... 0 1 112542.58]\n",
      " [1.0 0.0 0.0 ... 1 0 113931.57]\n",
      " ...\n",
      " [1.0 0.0 0.0 ... 0 1 42085.58]\n",
      " [0.0 1.0 0.0 ... 1 0 92888.52]\n",
      " [1.0 0.0 0.0 ... 1 0 38190.78]]\n"
     ]
    }
   ],
   "source": [
    "print(x)"
   ]
  },
  {
   "cell_type": "code",
   "execution_count": 9,
   "metadata": {
    "colab": {},
    "colab_type": "code",
    "id": "Z-TDt0Y_XEfc"
   },
   "outputs": [],
   "source": [
    "from sklearn.model_selection import train_test_split\n",
    "x_train, x_test, y_train, y_test = train_test_split(x, y, test_size = 0.2, random_state = 0)"
   ]
  },
  {
   "cell_type": "code",
   "execution_count": 10,
   "metadata": {
    "colab": {},
    "colab_type": "code",
    "id": "ViCrE00rV8Sk"
   },
   "outputs": [],
   "source": [
    "from sklearn.preprocessing import StandardScaler\n",
    "scaler = StandardScaler()\n",
    "x_train = scaler.fit_transform(x_train)\n",
    "x_test = scaler.transform(x_test)"
   ]
  },
  {
   "cell_type": "markdown",
   "metadata": {},
   "source": [
    "Creating the model and compile it"
   ]
  },
  {
   "cell_type": "code",
   "execution_count": 11,
   "metadata": {
    "colab": {},
    "colab_type": "code",
    "id": "3dtrScHxXQox"
   },
   "outputs": [],
   "source": [
    "ann = tf.keras.models.Sequential()"
   ]
  },
  {
   "cell_type": "code",
   "execution_count": 12,
   "metadata": {
    "colab": {},
    "colab_type": "code",
    "id": "bppGycBXYCQr"
   },
   "outputs": [],
   "source": [
    "ann.add(tf.keras.layers.Dense(units=6, activation='relu'))"
   ]
  },
  {
   "cell_type": "code",
   "execution_count": 13,
   "metadata": {
    "colab": {},
    "colab_type": "code",
    "id": "JneR0u0sYRTd"
   },
   "outputs": [],
   "source": [
    "ann.add(tf.keras.layers.Dense(units=6, activation='relu'))"
   ]
  },
  {
   "cell_type": "code",
   "execution_count": 14,
   "metadata": {
    "colab": {},
    "colab_type": "code",
    "id": "Cn3x41RBYfvY"
   },
   "outputs": [],
   "source": [
    "ann.add(tf.keras.layers.Dense(units=1, activation='sigmoid'))"
   ]
  },
  {
   "cell_type": "code",
   "execution_count": 15,
   "metadata": {
    "colab": {},
    "colab_type": "code",
    "id": "fG3RrwDXZEaS"
   },
   "outputs": [],
   "source": [
    "ann.compile(optimizer = 'adam', loss = 'binary_crossentropy', metrics = ['accuracy'])"
   ]
  },
  {
   "cell_type": "code",
   "execution_count": 16,
   "metadata": {},
   "outputs": [],
   "source": [
    "#We can create the model with the following code:\n",
    "# model= tf.keras.models.Sequential([\n",
    "#                                 tf.keras.layers.Dense(units= 6, activation= 'relu'),\n",
    "#                                 tf.keras.layers.Dense(units= 6, activation= 'relu'),\n",
    "#                                 tf.keras.layers.Dense(units= 1, activation='sigmoid')])\n",
    "# model.compile(...)"
   ]
  },
  {
   "cell_type": "code",
   "execution_count": 17,
   "metadata": {
    "colab": {
     "base_uri": "https://localhost:8080/",
     "height": 1000
    },
    "colab_type": "code",
    "id": "nHZ-LKv_ZRb3",
    "outputId": "718cc4b0-b5aa-40f0-9b20-d3d31730a531"
   },
   "outputs": [
    {
     "name": "stdout",
     "output_type": "stream",
     "text": [
      "Epoch 1/100\n",
      "250/250 [==============================] - 0s 455us/step - loss: 0.5252 - accuracy: 0.7880\n",
      "Epoch 2/100\n",
      "250/250 [==============================] - 0s 417us/step - loss: 0.4603 - accuracy: 0.7969\n",
      "Epoch 3/100\n",
      "250/250 [==============================] - 0s 414us/step - loss: 0.4386 - accuracy: 0.8021\n",
      "Epoch 4/100\n",
      "250/250 [==============================] - 0s 420us/step - loss: 0.4255 - accuracy: 0.8084\n",
      "Epoch 5/100\n",
      "250/250 [==============================] - 0s 425us/step - loss: 0.4166 - accuracy: 0.8140\n",
      "Epoch 6/100\n",
      "250/250 [==============================] - 0s 433us/step - loss: 0.4090 - accuracy: 0.8183\n",
      "Epoch 7/100\n",
      "250/250 [==============================] - 0s 403us/step - loss: 0.4017 - accuracy: 0.8198\n",
      "Epoch 8/100\n",
      "250/250 [==============================] - 0s 420us/step - loss: 0.3955 - accuracy: 0.8223\n",
      "Epoch 9/100\n",
      "250/250 [==============================] - 0s 427us/step - loss: 0.3891 - accuracy: 0.8227\n",
      "Epoch 10/100\n",
      "250/250 [==============================] - 0s 411us/step - loss: 0.3834 - accuracy: 0.8259\n",
      "Epoch 11/100\n",
      "250/250 [==============================] - 0s 426us/step - loss: 0.3784 - accuracy: 0.8271\n",
      "Epoch 12/100\n",
      "250/250 [==============================] - 0s 431us/step - loss: 0.3747 - accuracy: 0.8284\n",
      "Epoch 13/100\n",
      "250/250 [==============================] - 0s 534us/step - loss: 0.3716 - accuracy: 0.8275\n",
      "Epoch 14/100\n",
      "250/250 [==============================] - 0s 474us/step - loss: 0.3693 - accuracy: 0.8430\n",
      "Epoch 15/100\n",
      "250/250 [==============================] - 0s 423us/step - loss: 0.3673 - accuracy: 0.8514\n",
      "Epoch 16/100\n",
      "250/250 [==============================] - 0s 412us/step - loss: 0.3653 - accuracy: 0.8524\n",
      "Epoch 17/100\n",
      "250/250 [==============================] - 0s 452us/step - loss: 0.3634 - accuracy: 0.8544\n",
      "Epoch 18/100\n",
      "250/250 [==============================] - 0s 451us/step - loss: 0.3619 - accuracy: 0.8566\n",
      "Epoch 19/100\n",
      "250/250 [==============================] - 0s 416us/step - loss: 0.3608 - accuracy: 0.8560\n",
      "Epoch 20/100\n",
      "250/250 [==============================] - 0s 436us/step - loss: 0.3592 - accuracy: 0.8579\n",
      "Epoch 21/100\n",
      "250/250 [==============================] - 0s 472us/step - loss: 0.3578 - accuracy: 0.8579\n",
      "Epoch 22/100\n",
      "250/250 [==============================] - 0s 521us/step - loss: 0.3566 - accuracy: 0.8594\n",
      "Epoch 23/100\n",
      "250/250 [==============================] - 0s 513us/step - loss: 0.3553 - accuracy: 0.8597\n",
      "Epoch 24/100\n",
      "250/250 [==============================] - 0s 421us/step - loss: 0.3545 - accuracy: 0.8605\n",
      "Epoch 25/100\n",
      "250/250 [==============================] - 0s 439us/step - loss: 0.3536 - accuracy: 0.8610\n",
      "Epoch 26/100\n",
      "250/250 [==============================] - 0s 430us/step - loss: 0.3527 - accuracy: 0.8609\n",
      "Epoch 27/100\n",
      "250/250 [==============================] - 0s 406us/step - loss: 0.3520 - accuracy: 0.8625\n",
      "Epoch 28/100\n",
      "250/250 [==============================] - 0s 428us/step - loss: 0.3515 - accuracy: 0.8625\n",
      "Epoch 29/100\n",
      "250/250 [==============================] - 0s 442us/step - loss: 0.3504 - accuracy: 0.8614\n",
      "Epoch 30/100\n",
      "250/250 [==============================] - 0s 479us/step - loss: 0.3502 - accuracy: 0.8629\n",
      "Epoch 31/100\n",
      "250/250 [==============================] - 0s 440us/step - loss: 0.3497 - accuracy: 0.8631\n",
      "Epoch 32/100\n",
      "250/250 [==============================] - 0s 473us/step - loss: 0.3490 - accuracy: 0.8629\n",
      "Epoch 33/100\n",
      "250/250 [==============================] - 0s 505us/step - loss: 0.3483 - accuracy: 0.8621\n",
      "Epoch 34/100\n",
      "250/250 [==============================] - 0s 481us/step - loss: 0.3483 - accuracy: 0.8636\n",
      "Epoch 35/100\n",
      "250/250 [==============================] - 0s 422us/step - loss: 0.3473 - accuracy: 0.8635\n",
      "Epoch 36/100\n",
      "250/250 [==============================] - 0s 427us/step - loss: 0.3471 - accuracy: 0.8637\n",
      "Epoch 37/100\n",
      "250/250 [==============================] - 0s 464us/step - loss: 0.3469 - accuracy: 0.8629\n",
      "Epoch 38/100\n",
      "250/250 [==============================] - 0s 498us/step - loss: 0.3464 - accuracy: 0.8630\n",
      "Epoch 39/100\n",
      "250/250 [==============================] - 0s 484us/step - loss: 0.3460 - accuracy: 0.8621\n",
      "Epoch 40/100\n",
      "250/250 [==============================] - 0s 423us/step - loss: 0.3455 - accuracy: 0.8627\n",
      "Epoch 41/100\n",
      "250/250 [==============================] - 0s 411us/step - loss: 0.3454 - accuracy: 0.8629\n",
      "Epoch 42/100\n",
      "250/250 [==============================] - 0s 421us/step - loss: 0.3445 - accuracy: 0.8651\n",
      "Epoch 43/100\n",
      "250/250 [==============================] - 0s 414us/step - loss: 0.3447 - accuracy: 0.8626\n",
      "Epoch 44/100\n",
      "250/250 [==============================] - 0s 427us/step - loss: 0.3442 - accuracy: 0.8626\n",
      "Epoch 45/100\n",
      "250/250 [==============================] - 0s 392us/step - loss: 0.3442 - accuracy: 0.8620\n",
      "Epoch 46/100\n",
      "250/250 [==============================] - 0s 398us/step - loss: 0.3438 - accuracy: 0.8625\n",
      "Epoch 47/100\n",
      "250/250 [==============================] - 0s 399us/step - loss: 0.3432 - accuracy: 0.8637\n",
      "Epoch 48/100\n",
      "250/250 [==============================] - 0s 410us/step - loss: 0.3427 - accuracy: 0.8633\n",
      "Epoch 49/100\n",
      "250/250 [==============================] - 0s 422us/step - loss: 0.3428 - accuracy: 0.8621\n",
      "Epoch 50/100\n",
      "250/250 [==============================] - 0s 398us/step - loss: 0.3424 - accuracy: 0.8633\n",
      "Epoch 51/100\n",
      "250/250 [==============================] - 0s 396us/step - loss: 0.3426 - accuracy: 0.8648\n",
      "Epoch 52/100\n",
      "250/250 [==============================] - 0s 403us/step - loss: 0.3425 - accuracy: 0.8659\n",
      "Epoch 53/100\n",
      "250/250 [==============================] - 0s 400us/step - loss: 0.3421 - accuracy: 0.8627\n",
      "Epoch 54/100\n",
      "250/250 [==============================] - 0s 398us/step - loss: 0.3419 - accuracy: 0.8627\n",
      "Epoch 55/100\n",
      "250/250 [==============================] - 0s 391us/step - loss: 0.3415 - accuracy: 0.8637\n",
      "Epoch 56/100\n",
      "250/250 [==============================] - 0s 395us/step - loss: 0.3418 - accuracy: 0.8637\n",
      "Epoch 57/100\n",
      "250/250 [==============================] - 0s 397us/step - loss: 0.3410 - accuracy: 0.8652\n",
      "Epoch 58/100\n",
      "250/250 [==============================] - 0s 394us/step - loss: 0.3407 - accuracy: 0.8650\n",
      "Epoch 59/100\n",
      "250/250 [==============================] - 0s 387us/step - loss: 0.3411 - accuracy: 0.8644\n",
      "Epoch 60/100\n",
      "250/250 [==============================] - 0s 407us/step - loss: 0.3410 - accuracy: 0.8629\n",
      "Epoch 61/100\n",
      "250/250 [==============================] - 0s 393us/step - loss: 0.3405 - accuracy: 0.8640\n",
      "Epoch 62/100\n",
      "250/250 [==============================] - 0s 395us/step - loss: 0.3404 - accuracy: 0.8631\n",
      "Epoch 63/100\n",
      "250/250 [==============================] - 0s 423us/step - loss: 0.3405 - accuracy: 0.8635\n",
      "Epoch 64/100\n",
      "250/250 [==============================] - 0s 405us/step - loss: 0.3399 - accuracy: 0.8655\n",
      "Epoch 65/100\n",
      "250/250 [==============================] - 0s 456us/step - loss: 0.3399 - accuracy: 0.8618\n",
      "Epoch 66/100\n",
      "250/250 [==============================] - 0s 522us/step - loss: 0.3396 - accuracy: 0.8634\n",
      "Epoch 67/100\n",
      "250/250 [==============================] - 0s 423us/step - loss: 0.3397 - accuracy: 0.8641\n",
      "Epoch 68/100\n",
      "250/250 [==============================] - 0s 400us/step - loss: 0.3397 - accuracy: 0.8630\n",
      "Epoch 69/100\n",
      "250/250 [==============================] - 0s 392us/step - loss: 0.3395 - accuracy: 0.8648\n",
      "Epoch 70/100\n",
      "250/250 [==============================] - 0s 396us/step - loss: 0.3393 - accuracy: 0.8627\n",
      "Epoch 71/100\n",
      "250/250 [==============================] - 0s 420us/step - loss: 0.3394 - accuracy: 0.8633\n",
      "Epoch 72/100\n",
      "250/250 [==============================] - 0s 410us/step - loss: 0.3391 - accuracy: 0.8646\n",
      "Epoch 73/100\n",
      "250/250 [==============================] - 0s 406us/step - loss: 0.3389 - accuracy: 0.8627\n",
      "Epoch 74/100\n",
      "250/250 [==============================] - 0s 447us/step - loss: 0.3385 - accuracy: 0.8630\n",
      "Epoch 75/100\n",
      "250/250 [==============================] - 0s 444us/step - loss: 0.3388 - accuracy: 0.8631\n",
      "Epoch 76/100\n",
      "250/250 [==============================] - 0s 426us/step - loss: 0.3385 - accuracy: 0.8625\n",
      "Epoch 77/100\n",
      "250/250 [==============================] - 0s 427us/step - loss: 0.3385 - accuracy: 0.8644\n",
      "Epoch 78/100\n",
      "250/250 [==============================] - 0s 474us/step - loss: 0.3384 - accuracy: 0.8640\n",
      "Epoch 79/100\n"
     ]
    },
    {
     "name": "stdout",
     "output_type": "stream",
     "text": [
      "250/250 [==============================] - 0s 440us/step - loss: 0.3377 - accuracy: 0.8650\n",
      "Epoch 80/100\n",
      "250/250 [==============================] - 0s 404us/step - loss: 0.3378 - accuracy: 0.8629\n",
      "Epoch 81/100\n",
      "250/250 [==============================] - 0s 397us/step - loss: 0.3379 - accuracy: 0.8640\n",
      "Epoch 82/100\n",
      "250/250 [==============================] - 0s 407us/step - loss: 0.3377 - accuracy: 0.8644\n",
      "Epoch 83/100\n",
      "250/250 [==============================] - 0s 400us/step - loss: 0.3375 - accuracy: 0.8631\n",
      "Epoch 84/100\n",
      "250/250 [==============================] - 0s 419us/step - loss: 0.3377 - accuracy: 0.8639\n",
      "Epoch 85/100\n",
      "250/250 [==============================] - 0s 400us/step - loss: 0.3372 - accuracy: 0.8637\n",
      "Epoch 86/100\n",
      "250/250 [==============================] - 0s 400us/step - loss: 0.3372 - accuracy: 0.8635\n",
      "Epoch 87/100\n",
      "250/250 [==============================] - 0s 403us/step - loss: 0.3374 - accuracy: 0.8640\n",
      "Epoch 88/100\n",
      "250/250 [==============================] - 0s 395us/step - loss: 0.3372 - accuracy: 0.8635\n",
      "Epoch 89/100\n",
      "250/250 [==============================] - 0s 400us/step - loss: 0.3370 - accuracy: 0.8643\n",
      "Epoch 90/100\n",
      "250/250 [==============================] - 0s 442us/step - loss: 0.3372 - accuracy: 0.8626\n",
      "Epoch 91/100\n",
      "250/250 [==============================] - 0s 477us/step - loss: 0.3370 - accuracy: 0.8644\n",
      "Epoch 92/100\n",
      "250/250 [==============================] - 0s 472us/step - loss: 0.3372 - accuracy: 0.8641\n",
      "Epoch 93/100\n",
      "250/250 [==============================] - 0s 402us/step - loss: 0.3367 - accuracy: 0.8644\n",
      "Epoch 94/100\n",
      "250/250 [==============================] - 0s 399us/step - loss: 0.3366 - accuracy: 0.8635\n",
      "Epoch 95/100\n",
      "250/250 [==============================] - 0s 396us/step - loss: 0.3364 - accuracy: 0.8636\n",
      "Epoch 96/100\n",
      "250/250 [==============================] - 0s 408us/step - loss: 0.3359 - accuracy: 0.8648\n",
      "Epoch 97/100\n",
      "250/250 [==============================] - 0s 412us/step - loss: 0.3363 - accuracy: 0.8643\n",
      "Epoch 98/100\n",
      "250/250 [==============================] - 0s 400us/step - loss: 0.3358 - accuracy: 0.8645\n",
      "Epoch 99/100\n",
      "250/250 [==============================] - 0s 439us/step - loss: 0.3353 - accuracy: 0.8631\n",
      "Epoch 100/100\n",
      "250/250 [==============================] - 0s 479us/step - loss: 0.3354 - accuracy: 0.8631\n"
     ]
    },
    {
     "data": {
      "text/plain": [
       "<keras.callbacks.History at 0x262b67f0550>"
      ]
     },
     "execution_count": 17,
     "metadata": {},
     "output_type": "execute_result"
    }
   ],
   "source": [
    "ann.fit(x_train, y_train, batch_size = 32, epochs = 100)"
   ]
  },
  {
   "cell_type": "markdown",
   "metadata": {
    "colab_type": "text",
    "id": "CGRo3eacgDdC"
   },
   "source": [
    "### Predicting the result of a single observation\n",
    "\n",
    "We use the ANN model to predict if the customer with the following informations will leave the bank: \n",
    "\n",
    "Geography: France\n",
    "\n",
    "Credit Score: 600\n",
    "\n",
    "Gender: Male\n",
    "\n",
    "Age: 40 years old\n",
    "\n",
    "Tenure: 3 years\n",
    "\n",
    "Balance: \\$ 60000\n",
    "\n",
    "Number of Products: 2\n",
    "\n",
    "Does this customer have a credit card ? Yes\n",
    "\n",
    "Is this customer an Active Member: Yes\n",
    "\n",
    "Estimated Salary: \\$ 50000\n",
    "\n",
    "So, should we say goodbye to that customer ?"
   ]
  },
  {
   "cell_type": "code",
   "execution_count": 22,
   "metadata": {
    "colab": {
     "base_uri": "https://localhost:8080/",
     "height": 34
    },
    "colab_type": "code",
    "id": "2d8IoCCkeWGL",
    "outputId": "957f3970-e197-4c3b-a150-7f69dc567f5d"
   },
   "outputs": [
    {
     "name": "stdout",
     "output_type": "stream",
     "text": [
      "[[0.01990762]] [[False]]\n"
     ]
    }
   ],
   "source": [
    "x_special= scaler.transform([[1,0,0,600,1,40,3,60000,2,1,1,50000]])\n",
    "print(ann.predict(x_special), ann.predict(x_special) > 0.5)"
   ]
  },
  {
   "cell_type": "markdown",
   "metadata": {
    "colab_type": "text",
    "id": "wGjx94g2n7OV"
   },
   "source": [
    "Therefore, our ANN model predicts that this customer stays in the bank!"
   ]
  },
  {
   "cell_type": "code",
   "execution_count": 19,
   "metadata": {
    "colab": {
     "base_uri": "https://localhost:8080/",
     "height": 137
    },
    "colab_type": "code",
    "id": "nIyEeQdRZwgs",
    "outputId": "82330ba8-9bdc-4fd1-d3cf-b6d78ee7c2a3",
    "scrolled": true
   },
   "outputs": [
    {
     "name": "stdout",
     "output_type": "stream",
     "text": [
      "[[0 0]\n",
      " [0 1]\n",
      " [0 0]\n",
      " ...\n",
      " [0 0]\n",
      " [0 0]\n",
      " [0 0]]\n"
     ]
    }
   ],
   "source": [
    "y_pred = ann.predict(x_test)\n",
    "y_pred = (y_pred > 0.5)\n",
    "print(np.concatenate((y_pred.reshape(len(y_pred),1), y_test.reshape(len(y_test),1)),1))"
   ]
  },
  {
   "cell_type": "code",
   "execution_count": 20,
   "metadata": {
    "colab": {
     "base_uri": "https://localhost:8080/",
     "height": 68
    },
    "colab_type": "code",
    "id": "ci6K_r6LaF6P",
    "outputId": "4d854e9e-22d5-432f-f6e5-a102fe3ae0bd"
   },
   "outputs": [
    {
     "name": "stdout",
     "output_type": "stream",
     "text": [
      "[[1520   75]\n",
      " [ 199  206]]\n"
     ]
    },
    {
     "data": {
      "text/plain": [
       "0.863"
      ]
     },
     "execution_count": 20,
     "metadata": {},
     "output_type": "execute_result"
    }
   ],
   "source": [
    "from sklearn.metrics import confusion_matrix, accuracy_score\n",
    "cm = confusion_matrix(y_test, y_pred)\n",
    "print(cm)\n",
    "accuracy_score(y_test, y_pred)"
   ]
  }
 ],
 "metadata": {
  "colab": {
   "collapsed_sections": [],
   "name": "artificial_neural_network.ipynb",
   "provenance": [],
   "toc_visible": true
  },
  "kernelspec": {
   "display_name": "Python [conda env:py3-TF2.0]",
   "language": "python",
   "name": "conda-env-py3-TF2.0-py"
  },
  "language_info": {
   "codemirror_mode": {
    "name": "ipython",
    "version": 3
   },
   "file_extension": ".py",
   "mimetype": "text/x-python",
   "name": "python",
   "nbconvert_exporter": "python",
   "pygments_lexer": "ipython3",
   "version": "3.9.6"
  }
 },
 "nbformat": 4,
 "nbformat_minor": 1
}
